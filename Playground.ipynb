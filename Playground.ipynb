{
 "cells": [
  {
   "cell_type": "code",
   "execution_count": 3,
   "metadata": {},
   "outputs": [],
   "source": [
    "import jax\n",
    "import jax.numpy as jnp\n",
    "import jax.random as jr\n",
    "import matplotlib.pyplot as plt\n",
    "import numpy as np\n",
    "import pandas as pd\n",
    "import seaborn as sns\n",
    "\n",
    "import numpyro\n",
    "from numpyro.diagnostics import hpdi\n",
    "import numpyro.distributions as dist\n",
    "from numpyro.infer import MCMC, NUTS"
   ]
  },
  {
   "cell_type": "code",
   "execution_count": 33,
   "metadata": {},
   "outputs": [],
   "source": [
    "def random_walk(start, steps, noise_scale=1.0):\n",
    "    poss = [start]\n",
    "    for i in range(steps):\n",
    "        poss.append(\n",
    "            numpyro.sample(\n",
    "                f\"step_{i}\", dist.Normal(poss[-1], noise_scale)\n",
    "            ) + jnp.array([0.5,0.0])\n",
    "        )\n",
    "    return poss"
   ]
  },
  {
   "cell_type": "code",
   "execution_count": 34,
   "metadata": {},
   "outputs": [],
   "source": [
    "def model(end_pos):\n",
    "    start = numpyro.sample(\"start\", dist.Normal(jnp.array([0.0, 0.0]), 10.0))\n",
    "    poss = numpyro.sample(\"walk\", random_walk(start, 10))\n",
    "    numpyro.sample(\"end\", dist.Normal(poss[-1], 0.2), obs=end_pos)"
   ]
  },
  {
   "cell_type": "code",
   "execution_count": 35,
   "metadata": {},
   "outputs": [
    {
     "name": "stderr",
     "output_type": "stream",
     "text": [
      "sample: 100%|██████████| 3000/3000 [00:05<00:00, 519.21it/s, 31 steps of size 1.75e-01. acc. prob=0.86] \n"
     ]
    }
   ],
   "source": [
    "key = jr.key(1729)\n",
    "\n",
    "mcmc = MCMC(NUTS(model), num_warmup=1000, num_samples=2000)\n",
    "mcmc.run(key, end_pos=jnp.array([10.0,10.0]))\n",
    "samples = mcmc.get_samples()"
   ]
  },
  {
   "cell_type": "code",
   "execution_count": 36,
   "metadata": {},
   "outputs": [
    {
     "data": {
      "text/plain": [
       "<matplotlib.collections.PathCollection at 0x7f911c84a110>"
      ]
     },
     "execution_count": 36,
     "metadata": {},
     "output_type": "execute_result"
    },
    {
     "data": {
      "image/png": "[encoded data removed]",
      "text/plain": [
       "<Figure size 640x480 with 1 Axes>"
      ]
     },
     "metadata": {},
     "output_type": "display_data"
    }
   ],
   "source": [
    "n = 100\n",
    "plt.scatter(samples[\"start\"][:n,0],samples[\"start\"][:n,1])"
   ]
  },
  {
   "cell_type": "code",
   "execution_count": null,
   "metadata": {},
   "outputs": [],
   "source": []
  }
 ],
 "metadata": {
  "kernelspec": {
   "display_name": "where-am-i-slknnJ70-py3.11",
   "language": "python",
   "name": "python3"
  },
  "language_info": {
   "codemirror_mode": {
    "name": "ipython",
    "version": 3
   },
   "file_extension": ".py",
   "mimetype": "text/x-python",
   "name": "python",
   "nbconvert_exporter": "python",
   "pygments_lexer": "ipython3",
   "version": "3.11.8"
  }
 },
 "nbformat": 4,
 "nbformat_minor": 2
}
